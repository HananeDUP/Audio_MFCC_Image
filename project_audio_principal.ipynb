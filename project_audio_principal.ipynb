{
 "cells": [
  {
   "cell_type": "code",
   "execution_count": 1,
   "metadata": {},
   "outputs": [],
   "source": [
    "import librosa\n",
    "import scipy.io.wavfile\n",
    "import matplotlib.pyplot as plt\n",
    "import numpy as np\n",
    "import seaborn as sns\n",
    "sns.set()"
   ]
  },
  {
   "cell_type": "code",
   "execution_count": 2,
   "metadata": {},
   "outputs": [],
   "source": [
    "import pandas as pd\n",
    "import warnings\n",
    "warnings.filterwarnings('ignore')"
   ]
  },
  {
   "cell_type": "markdown",
   "metadata": {},
   "source": [
    "## AUDIO"
   ]
  },
  {
   "cell_type": "code",
   "execution_count": 3,
   "metadata": {},
   "outputs": [],
   "source": [
    "mypath=\"mroux/\"\n",
    "filename=\"06-11-22.mp4\"\n",
    "\n",
    "path_audio=r\"C:\\Users\\Hanane\"\n",
    "filename_audio=\"audio_suisse.wav\""
   ]
  },
  {
   "cell_type": "code",
   "execution_count": 4,
   "metadata": {},
   "outputs": [],
   "source": [
    "# import subprocess\n",
    "# command = \"ffmpeg -i C:/Users/Hanane/Documents/Python_Scripts/TelecomParis/Module_4_Donnees_Multimedia/mroux/06-11-22.mp4 -ab 160k -ac 2 -ar 44100 -vn audio_suisse.wav\"\n",
    "# subprocess.call(command, shell=True)"
   ]
  },
  {
   "cell_type": "code",
   "execution_count": 5,
   "metadata": {},
   "outputs": [],
   "source": [
    "y, sr = librosa.load(path_audio+\"//\"+filename_audio)\n",
    "# RuntimeError: Error opening 'mroux/06-11-22.mp4': File contains data in an unknown format.\n",
    "# sample_rate, data= scipy.io.wavfile.read(path_audio+\"//\"+filename_audio)"
   ]
  },
  {
   "cell_type": "code",
   "execution_count": 6,
   "metadata": {},
   "outputs": [
    {
     "name": "stdout",
     "output_type": "stream",
     "text": [
      "librosa: sample_rate 22050  lenght signal 51836904\n"
     ]
    }
   ],
   "source": [
    "# print(\"scipy: sample_rate\", sample_rate, \" lenght signal\", len(data))\n",
    "print(\"librosa: sample_rate\", sr, \" lenght signal\", len(y))"
   ]
  },
  {
   "cell_type": "markdown",
   "metadata": {},
   "source": [
    "## UNDERSTANDING DATA AND SETTING PARAMETERS"
   ]
  },
  {
   "cell_type": "markdown",
   "metadata": {},
   "source": [
    "the sample rate is the number of measurements tooken each second: \n",
    "    if sr=22050 (22.050KHz) it supposes there is 22050 measurements tooken every second"
   ]
  },
  {
   "cell_type": "markdown",
   "metadata": {},
   "source": [
    "##### duration of the video"
   ]
  },
  {
   "cell_type": "code",
   "execution_count": 7,
   "metadata": {},
   "outputs": [],
   "source": [
    "duration_audio=librosa.get_duration(y=y, sr=sr)"
   ]
  },
  {
   "cell_type": "code",
   "execution_count": 8,
   "metadata": {},
   "outputs": [
    {
     "name": "stdout",
     "output_type": "stream",
     "text": [
      "audio duration in seconds 2350.88 (s) in minutes  39.181333333333335 (mn)\n"
     ]
    }
   ],
   "source": [
    "print(\"audio duration in seconds\", duration_audio,\"(s) in minutes \",duration_audio/60,\"(mn)\")"
   ]
  },
  {
   "cell_type": "markdown",
   "metadata": {},
   "source": [
    "Our goal is not to take the whole video, but only the beginning \"génerique + Reportage\", \n",
    "\"reportage\" ends at 84.64 seconds but we don't know at which time exactly ==> so we have to take an hypothesis ==> 5% de la video?"
   ]
  },
  {
   "cell_type": "code",
   "execution_count": 9,
   "metadata": {},
   "outputs": [
    {
     "name": "stdout",
     "output_type": "stream",
     "text": [
      "time at which w stop the analysis of the audio 117.54400000000001 (s)\n"
     ]
    }
   ],
   "source": [
    "stopping_time=0.05*duration_audio\n",
    "print(\"time at which w stop the analysis of the audio\", stopping_time,\"(s)\")"
   ]
  },
  {
   "cell_type": "markdown",
   "metadata": {},
   "source": [
    "##### Framing the video"
   ]
  },
  {
   "cell_type": "markdown",
   "metadata": {},
   "source": [
    "To know at which frame stopping_time corresponds, we must, before, determine frame_length and hop_length"
   ]
  },
  {
   "cell_type": "markdown",
   "metadata": {},
   "source": [
    "in librosa, there are two parameters that must be specified to get MFCC features, frame_length and hop_length:\n",
    "\n",
    "    frame_length: it the length of the frame. For example one frame can measure 40ms (standard between 20 and 40ms) ie 882 measurements (40ms *sr)\n",
    "    hop_length: number of steps to advance between frames. For example 10ms, ie 220 measuremnts. "
   ]
  },
  {
   "cell_type": "code",
   "execution_count": 10,
   "metadata": {},
   "outputs": [
    {
     "name": "stdout",
     "output_type": "stream",
     "text": [
      "frame_length 882.0\n",
      "hop_length for 10 ms ==> 220\n",
      "hop_length in ms for 512 ==> 23.219954648526077 (ms)\n"
     ]
    }
   ],
   "source": [
    "frame_length_ms=40\n",
    "hop_length_ms=10\n",
    "hop_length=512\n",
    "print(\"frame_length\",(frame_length_ms/1000)*sr)\n",
    "print(\"hop_length for\",hop_length_ms,\"ms ==>\",int((hop_length_ms/1000)*sr))\n",
    "print(\"hop_length in ms for\",hop_length,\"==>\",(hop_length/sr)*1000,\"(ms)\")"
   ]
  },
  {
   "cell_type": "code",
   "execution_count": 11,
   "metadata": {
    "scrolled": true
   },
   "outputs": [
    {
     "name": "stdout",
     "output_type": "stream",
     "text": [
      "value by default librosa n_ftt, frame_length 92.87981859410431 ms\n",
      "value by default librosa hop_length 23.219954648526077 ms\n"
     ]
    },
    {
     "data": {
      "text/plain": [
       "10.7666015625"
      ]
     },
     "execution_count": 11,
     "metadata": {},
     "output_type": "execute_result"
    }
   ],
   "source": [
    "print(\"value by default librosa n_ftt, frame_length\",2048/sr*1000,\"ms\")\n",
    "print(\"value by default librosa hop_length\",512/sr *1000,\"ms\")\n",
    "sr/2048"
   ]
  },
  {
   "cell_type": "markdown",
   "metadata": {},
   "source": [
    "To determine the number of frames, to reach the stopping_time, we have to determine how many times we apply hop_length to get this stopping_time: X*hop_length=stopping_time"
   ]
  },
  {
   "cell_type": "code",
   "execution_count": 12,
   "metadata": {},
   "outputs": [
    {
     "name": "stdout",
     "output_type": "stream",
     "text": [
      "stopping_time 117.54400000000001\n",
      "hop_length_ms 10\n",
      "11754\n"
     ]
    }
   ],
   "source": [
    "print(\"stopping_time\",stopping_time)\n",
    "print(\"hop_length_ms\",hop_length_ms)\n",
    "stopping_idx=int((stopping_time/hop_length_ms)*1000)\n",
    "print(stopping_idx)"
   ]
  },
  {
   "cell_type": "markdown",
   "metadata": {},
   "source": [
    "So when getting frames from librosa, we must slice the array to get only X (11754.4) columns"
   ]
  },
  {
   "cell_type": "code",
   "execution_count": 13,
   "metadata": {},
   "outputs": [
    {
     "data": {
      "text/plain": [
       "(51836904,)"
      ]
     },
     "execution_count": 13,
     "metadata": {},
     "output_type": "execute_result"
    }
   ],
   "source": [
    "y.shape"
   ]
  },
  {
   "cell_type": "code",
   "execution_count": 14,
   "metadata": {},
   "outputs": [
    {
     "data": {
      "text/plain": [
       "(235619, 882)"
      ]
     },
     "execution_count": 14,
     "metadata": {},
     "output_type": "execute_result"
    }
   ],
   "source": [
    "frames = librosa.util.frame(y, frame_length=882, hop_length=220,axis=0)\n",
    "frames.shape"
   ]
  },
  {
   "cell_type": "markdown",
   "metadata": {},
   "source": [
    "The link between y.shape 51836904 and frames.shape[0] 235619:\n",
    "\n",
    "    sample_rate * duration_audio = y.shape\n",
    "    y.shape/hop_length = frames.shape[0] (or len(mfcc[0])"
   ]
  },
  {
   "cell_type": "code",
   "execution_count": 15,
   "metadata": {},
   "outputs": [
    {
     "name": "stdout",
     "output_type": "stream",
     "text": [
      "hop_length 220\n"
     ]
    },
    {
     "data": {
      "text/plain": [
       "220.00307275729037"
      ]
     },
     "execution_count": 15,
     "metadata": {},
     "output_type": "execute_result"
    }
   ],
   "source": [
    "print(\"hop_length\", int(y.shape[0]/frames.shape[0]))\n",
    "51836904/235619"
   ]
  },
  {
   "cell_type": "code",
   "execution_count": 16,
   "metadata": {},
   "outputs": [
    {
     "data": {
      "text/plain": [
       "(11754, 882)"
      ]
     },
     "execution_count": 16,
     "metadata": {},
     "output_type": "execute_result"
    }
   ],
   "source": [
    "frames_start=frames[:stopping_idx,:]\n",
    "frames_start.shape"
   ]
  },
  {
   "cell_type": "markdown",
   "metadata": {},
   "source": [
    "In the following code, we will not use frames, we will use directly mfcc method which already frame the audio"
   ]
  },
  {
   "cell_type": "markdown",
   "metadata": {},
   "source": [
    "## MFCC in librosa:\n",
    "    we give directly hop_length, and wind_length (=n_fft,=frame_length) ==> we don't need to get frames before"
   ]
  },
  {
   "cell_type": "markdown",
   "metadata": {},
   "source": [
    "Understand how to get n_fft ????"
   ]
  },
  {
   "cell_type": "code",
   "execution_count": 17,
   "metadata": {},
   "outputs": [],
   "source": [
    "# Y_stft = librosa.stft(y)\n",
    "# Y_db = librosa.amplitude_to_db(abs(Y_stft))\n",
    "# print(Y_stft.shape)\n",
    "# Y_stft[:3]"
   ]
  },
  {
   "cell_type": "markdown",
   "metadata": {},
   "source": [
    "#### MFCC features ==> 13"
   ]
  },
  {
   "cell_type": "markdown",
   "metadata": {},
   "source": [
    "Librosa documentation:\n",
    "\n",
    "    win_length : int <= n_fft [scalar]\n",
    "        Each frame of audio is windowed by `window()`.\n",
    "        The window will be of length `win_length` and then padded\n",
    "        with zeros to match `n_fft`.\n",
    "\n",
    "        If unspecified, defaults to ``win_length = n_fft``.\n",
    "        \n",
    "    n_fft : int > 0 [scalar]\n",
    "        FFT window size"
   ]
  },
  {
   "cell_type": "code",
   "execution_count": 18,
   "metadata": {},
   "outputs": [
    {
     "name": "stdout",
     "output_type": "stream",
     "text": [
      "(13, 235623)\n"
     ]
    },
    {
     "data": {
      "text/plain": [
       "(13, 11754)"
      ]
     },
     "execution_count": 18,
     "metadata": {},
     "output_type": "execute_result"
    }
   ],
   "source": [
    "frame_length=882\n",
    "hop_length=220\n",
    "mfcc=librosa.feature.mfcc(y=y, sr=sr,win_length=frame_length,hop_length=hop_length, n_mfcc=13)\n",
    "print(mfcc.shape)\n",
    "mfcc_final=mfcc[:,:stopping_idx]\n",
    "mfcc_final.shape"
   ]
  },
  {
   "cell_type": "markdown",
   "metadata": {},
   "source": [
    "#### DELTAS OF MFCC"
   ]
  },
  {
   "cell_type": "markdown",
   "metadata": {},
   "source": [
    "    http://practicalcryptography.com/miscellaneous/machine-learning/guide-mel-frequency-cepstral-coefficients-mfccs/#implementations\n",
    "    \n",
    "    https://github.com/jameslyons/python_speech_features"
   ]
  },
  {
   "cell_type": "code",
   "execution_count": 19,
   "metadata": {},
   "outputs": [],
   "source": [
    "def delta(feat, N):\n",
    "    \"\"\"Compute delta features from a feature vector sequence.\n",
    "    :param feat: A numpy array of size (NUMFRAMES by number of features) containing features. Each row holds 1 feature vector.\n",
    "    :param N: For each frame, calculate delta features based on preceding and following N frames\n",
    "    :returns: A numpy array of size (NUMFRAMES by number of features) containing delta features. Each row holds 1 delta feature vector.\n",
    "    \"\"\"\n",
    "    if N < 1:\n",
    "        raise ValueError('N must be an integer >= 1')\n",
    "    NUMFRAMES = len(feat)\n",
    "    denominator = 2 * sum([i**2 for i in range(1, N+1)])\n",
    "    delta_feat = np.empty_like(feat)\n",
    "    padded = np.pad(feat, ((N, N), (0, 0)), mode='edge')   # padded version of feat\n",
    "    for t in range(NUMFRAMES):\n",
    "        delta_feat[t] = np.dot(np.arange(-N, N+1), padded[t : t+2*N+1]) / denominator   # [t : t+2*N+1] == [(N+t)-N : (N+t)+N+1]\n",
    "    return delta_feat"
   ]
  },
  {
   "cell_type": "code",
   "execution_count": 20,
   "metadata": {},
   "outputs": [
    {
     "data": {
      "text/plain": [
       "(13, 11754)"
      ]
     },
     "execution_count": 20,
     "metadata": {},
     "output_type": "execute_result"
    }
   ],
   "source": [
    "d_mfcc_feat = delta(mfcc_final, 2)\n",
    "d_mfcc_feat.shape"
   ]
  },
  {
   "cell_type": "markdown",
   "metadata": {},
   "source": [
    "### PLOT"
   ]
  },
  {
   "cell_type": "code",
   "execution_count": 21,
   "metadata": {},
   "outputs": [
    {
     "data": {
      "image/png": "[encoded data removed]",
      "text/plain": [
       "<Figure size 432x288 with 1 Axes>"
      ]
     },
     "metadata": {},
     "output_type": "display_data"
    },
    {
     "data": {
      "text/plain": [
       "[<matplotlib.lines.Line2D at 0x2550cd0c240>,\n",
       " <matplotlib.lines.Line2D at 0x2550ce218d0>,\n",
       " <matplotlib.lines.Line2D at 0x2550ce21160>,\n",
       " <matplotlib.lines.Line2D at 0x2550ce21cf8>,\n",
       " <matplotlib.lines.Line2D at 0x2550ce21fd0>]"
      ]
     },
     "execution_count": 21,
     "metadata": {},
     "output_type": "execute_result"
    },
    {
     "data": {
      "image/png": "[encoded data removed]",
      "text/plain": [
       "<Figure size 432x288 with 1 Axes>"
      ]
     },
     "metadata": {},
     "output_type": "display_data"
    }
   ],
   "source": [
    "plt.plot(mfcc_final[:,:5])\n",
    "plt.show()\n",
    "plt.plot(d_mfcc_feat[:,:5])"
   ]
  },
  {
   "cell_type": "markdown",
   "metadata": {},
   "source": [
    "###### Other features?"
   ]
  },
  {
   "cell_type": "markdown",
   "metadata": {},
   "source": [
    "You can try using a tool such as HTK, it automatically extracts MFCCs, delta, acceleration and energy coefficients"
   ]
  },
  {
   "cell_type": "markdown",
   "metadata": {},
   "source": [
    "https://www.researchgate.net/post/How_to_deal_with_12_Mel-frequency_cepstral_coefficients_MFCCs"
   ]
  },
  {
   "cell_type": "markdown",
   "metadata": {},
   "source": [
    "## FINAL DATA SET FOR AUDIO FILE"
   ]
  },
  {
   "cell_type": "code",
   "execution_count": 22,
   "metadata": {},
   "outputs": [],
   "source": [
    "# d_mfcc_feat\n",
    "# mfcc_final"
   ]
  },
  {
   "cell_type": "code",
   "execution_count": 23,
   "metadata": {},
   "outputs": [
    {
     "name": "stdout",
     "output_type": "stream",
     "text": [
      "df_mfcc_feat (11754, 13)\n",
      "df_delta_mfcc_feat (11754, 13)\n",
      "(11754, 26)\n"
     ]
    },
    {
     "data": {
      "text/html": [
       "<div>\n",
       "<style scoped>\n",
       "    .dataframe tbody tr th:only-of-type {\n",
       "        vertical-align: middle;\n",
       "    }\n",
       "\n",
       "    .dataframe tbody tr th {\n",
       "        vertical-align: top;\n",
       "    }\n",
       "\n",
       "    .dataframe thead th {\n",
       "        text-align: right;\n",
       "    }\n",
       "</style>\n",
       "<table border=\"1\" class=\"dataframe\">\n",
       "  <thead>\n",
       "    <tr style=\"text-align: right;\">\n",
       "      <th></th>\n",
       "      <th>mfcc1</th>\n",
       "      <th>mfcc2</th>\n",
       "      <th>mfcc3</th>\n",
       "      <th>mfcc4</th>\n",
       "      <th>mfcc5</th>\n",
       "      <th>mfcc6</th>\n",
       "      <th>mfcc7</th>\n",
       "      <th>mfcc8</th>\n",
       "      <th>mfcc9</th>\n",
       "      <th>mfcc10</th>\n",
       "      <th>...</th>\n",
       "      <th>d_mfcc4</th>\n",
       "      <th>d_mfcc5</th>\n",
       "      <th>d_mfcc6</th>\n",
       "      <th>d_mfcc7</th>\n",
       "      <th>d_mfcc8</th>\n",
       "      <th>d_mfcc9</th>\n",
       "      <th>d_mfcc10</th>\n",
       "      <th>d_mfcc11</th>\n",
       "      <th>d_mfcc12</th>\n",
       "      <th>d_mfcc13</th>\n",
       "    </tr>\n",
       "  </thead>\n",
       "  <tbody>\n",
       "    <tr>\n",
       "      <th>0</th>\n",
       "      <td>-352.450653</td>\n",
       "      <td>70.544754</td>\n",
       "      <td>9.370108</td>\n",
       "      <td>-11.407820</td>\n",
       "      <td>-18.713223</td>\n",
       "      <td>4.215096</td>\n",
       "      <td>-3.295850</td>\n",
       "      <td>11.923555</td>\n",
       "      <td>11.916895</td>\n",
       "      <td>8.225371</td>\n",
       "      <td>...</td>\n",
       "      <td>-16.074265</td>\n",
       "      <td>-0.970900</td>\n",
       "      <td>6.208012</td>\n",
       "      <td>6.896869</td>\n",
       "      <td>2.323329</td>\n",
       "      <td>1.379926</td>\n",
       "      <td>-2.573745</td>\n",
       "      <td>-7.091316</td>\n",
       "      <td>-8.361487</td>\n",
       "      <td>-7.490385</td>\n",
       "    </tr>\n",
       "    <tr>\n",
       "      <th>1</th>\n",
       "      <td>-340.142700</td>\n",
       "      <td>79.483170</td>\n",
       "      <td>3.676695</td>\n",
       "      <td>-16.109493</td>\n",
       "      <td>-24.121906</td>\n",
       "      <td>4.835019</td>\n",
       "      <td>-1.079428</td>\n",
       "      <td>5.466009</td>\n",
       "      <td>11.465298</td>\n",
       "      <td>8.467915</td>\n",
       "      <td>...</td>\n",
       "      <td>-17.709490</td>\n",
       "      <td>1.143227</td>\n",
       "      <td>6.619349</td>\n",
       "      <td>7.180540</td>\n",
       "      <td>1.981052</td>\n",
       "      <td>1.790951</td>\n",
       "      <td>0.168473</td>\n",
       "      <td>-4.992587</td>\n",
       "      <td>-6.438200</td>\n",
       "      <td>-6.267438</td>\n",
       "    </tr>\n",
       "    <tr>\n",
       "      <th>2</th>\n",
       "      <td>-336.235352</td>\n",
       "      <td>84.621231</td>\n",
       "      <td>3.434690</td>\n",
       "      <td>-7.890507</td>\n",
       "      <td>-15.309576</td>\n",
       "      <td>5.814242</td>\n",
       "      <td>-3.178203</td>\n",
       "      <td>-0.873058</td>\n",
       "      <td>11.273283</td>\n",
       "      <td>10.431985</td>\n",
       "      <td>...</td>\n",
       "      <td>-17.635824</td>\n",
       "      <td>0.047896</td>\n",
       "      <td>2.616627</td>\n",
       "      <td>4.647842</td>\n",
       "      <td>2.368697</td>\n",
       "      <td>2.871377</td>\n",
       "      <td>1.157037</td>\n",
       "      <td>-5.549087</td>\n",
       "      <td>-7.183714</td>\n",
       "      <td>-6.428502</td>\n",
       "    </tr>\n",
       "    <tr>\n",
       "      <th>3</th>\n",
       "      <td>-340.139069</td>\n",
       "      <td>85.588997</td>\n",
       "      <td>5.645240</td>\n",
       "      <td>-0.846454</td>\n",
       "      <td>-5.064150</td>\n",
       "      <td>13.128290</td>\n",
       "      <td>0.245426</td>\n",
       "      <td>-1.319692</td>\n",
       "      <td>4.942580</td>\n",
       "      <td>2.131484</td>\n",
       "      <td>...</td>\n",
       "      <td>-15.563081</td>\n",
       "      <td>0.317512</td>\n",
       "      <td>0.436310</td>\n",
       "      <td>0.556548</td>\n",
       "      <td>-1.729646</td>\n",
       "      <td>1.813214</td>\n",
       "      <td>0.616946</td>\n",
       "      <td>-5.814524</td>\n",
       "      <td>-8.170684</td>\n",
       "      <td>-8.547315</td>\n",
       "    </tr>\n",
       "    <tr>\n",
       "      <th>4</th>\n",
       "      <td>-342.982361</td>\n",
       "      <td>97.859886</td>\n",
       "      <td>16.670664</td>\n",
       "      <td>2.450852</td>\n",
       "      <td>-6.031914</td>\n",
       "      <td>3.387052</td>\n",
       "      <td>-2.882654</td>\n",
       "      <td>3.551692</td>\n",
       "      <td>4.224533</td>\n",
       "      <td>-3.857919</td>\n",
       "      <td>...</td>\n",
       "      <td>-21.164825</td>\n",
       "      <td>-3.817044</td>\n",
       "      <td>0.535094</td>\n",
       "      <td>2.067753</td>\n",
       "      <td>-0.738276</td>\n",
       "      <td>1.013752</td>\n",
       "      <td>0.033712</td>\n",
       "      <td>-3.055969</td>\n",
       "      <td>-4.145849</td>\n",
       "      <td>-5.795230</td>\n",
       "    </tr>\n",
       "  </tbody>\n",
       "</table>\n",
       "<p>5 rows × 26 columns</p>\n",
       "</div>"
      ],
      "text/plain": [
       "        mfcc1      mfcc2      mfcc3      mfcc4      mfcc5      mfcc6  \\\n",
       "0 -352.450653  70.544754   9.370108 -11.407820 -18.713223   4.215096   \n",
       "1 -340.142700  79.483170   3.676695 -16.109493 -24.121906   4.835019   \n",
       "2 -336.235352  84.621231   3.434690  -7.890507 -15.309576   5.814242   \n",
       "3 -340.139069  85.588997   5.645240  -0.846454  -5.064150  13.128290   \n",
       "4 -342.982361  97.859886  16.670664   2.450852  -6.031914   3.387052   \n",
       "\n",
       "      mfcc7      mfcc8      mfcc9     mfcc10    ...       d_mfcc4   d_mfcc5  \\\n",
       "0 -3.295850  11.923555  11.916895   8.225371    ...    -16.074265 -0.970900   \n",
       "1 -1.079428   5.466009  11.465298   8.467915    ...    -17.709490  1.143227   \n",
       "2 -3.178203  -0.873058  11.273283  10.431985    ...    -17.635824  0.047896   \n",
       "3  0.245426  -1.319692   4.942580   2.131484    ...    -15.563081  0.317512   \n",
       "4 -2.882654   3.551692   4.224533  -3.857919    ...    -21.164825 -3.817044   \n",
       "\n",
       "    d_mfcc6   d_mfcc7   d_mfcc8   d_mfcc9  d_mfcc10  d_mfcc11  d_mfcc12  \\\n",
       "0  6.208012  6.896869  2.323329  1.379926 -2.573745 -7.091316 -8.361487   \n",
       "1  6.619349  7.180540  1.981052  1.790951  0.168473 -4.992587 -6.438200   \n",
       "2  2.616627  4.647842  2.368697  2.871377  1.157037 -5.549087 -7.183714   \n",
       "3  0.436310  0.556548 -1.729646  1.813214  0.616946 -5.814524 -8.170684   \n",
       "4  0.535094  2.067753 -0.738276  1.013752  0.033712 -3.055969 -4.145849   \n",
       "\n",
       "   d_mfcc13  \n",
       "0 -7.490385  \n",
       "1 -6.267438  \n",
       "2 -6.428502  \n",
       "3 -8.547315  \n",
       "4 -5.795230  \n",
       "\n",
       "[5 rows x 26 columns]"
      ]
     },
     "execution_count": 23,
     "metadata": {},
     "output_type": "execute_result"
    }
   ],
   "source": [
    "columns=['mfcc'+str(i) for i in range(1,14)]\n",
    "df_mfcc_feat=pd.DataFrame(data=mfcc_final.T,columns=columns)\n",
    "print(\"df_mfcc_feat\",df_mfcc_feat.shape)\n",
    "\n",
    "columns=['d_mfcc'+str(i) for i in range(1,14)]\n",
    "df_delta_mfcc_feat=pd.DataFrame(data=d_mfcc_feat.T,columns=columns)\n",
    "print(\"df_delta_mfcc_feat\",df_delta_mfcc_feat.shape)\n",
    "\n",
    "df_global=pd.concat([df_mfcc_feat,df_delta_mfcc_feat],axis=1,sort=True)\n",
    "print(df_global.shape)\n",
    "df_global.head()"
   ]
  },
  {
   "cell_type": "code",
   "execution_count": 48,
   "metadata": {},
   "outputs": [],
   "source": [
    "# file_name=\"mfcc_generique_reportage\"+str(frame_length)+\"_\"+str(hop_length)+\".csv\"\n",
    "# df_global.to_csv(\"mfcc_generique_reportage.csv\")"
   ]
  },
  {
   "cell_type": "markdown",
   "metadata": {},
   "source": [
    "### METHOD GENERATE FEATURES"
   ]
  },
  {
   "cell_type": "code",
   "execution_count": 25,
   "metadata": {},
   "outputs": [],
   "source": [
    "def generate_mfcc_features_df(y,sr,frame_length,hop_length,stopping_idx):\n",
    "    mfcc=librosa.feature.mfcc(y=y, sr=sr,win_length=frame_length,hop_length=hop_length, n_mfcc=13)\n",
    "    print(\"mfcc\",mfcc.shape)\n",
    "    mfcc_final=mfcc[:,:stopping_idx]\n",
    "    print(\"mfcc\",mfcc_final.shape)\n",
    "    \n",
    "    d_mfcc_feat = delta(mfcc_final, 2)\n",
    "    \n",
    "    columns=['mfcc'+str(i) for i in range(1,14)]\n",
    "    df_mfcc_feat=pd.DataFrame(data=mfcc_final.T,columns=columns)\n",
    "    print(\"df_mfcc_feat\",df_mfcc_feat.shape)\n",
    "\n",
    "    columns=['d_mfcc'+str(i) for i in range(1,14)]\n",
    "    df_delta_mfcc_feat=pd.DataFrame(data=d_mfcc_feat.T,columns=columns)\n",
    "    print(\"df_delta_mfcc_feat\",df_delta_mfcc_feat.shape)\n",
    "\n",
    "    df_global=pd.concat([df_mfcc_feat,df_delta_mfcc_feat],axis=1,sort=True)\n",
    "    print(\"df_global\",df_global.shape)\n",
    "    \n",
    "    file_name=\"mfcc_generique_reportage\"+str(frame_length)+\"_\"+str(hop_length)+\".csv\"\n",
    "    df_global.to_csv(file_name)\n",
    "    \n",
    "    return df_global"
   ]
  },
  {
   "cell_type": "code",
   "execution_count": 26,
   "metadata": {},
   "outputs": [
    {
     "name": "stdout",
     "output_type": "stream",
     "text": [
      "value by default librosa n_ftt, frame_length 92.87981859410431 ms\n",
      "value by default librosa hop_length 23.219954648526077 ms\n",
      "23\n",
      "5110\n"
     ]
    }
   ],
   "source": [
    "print(\"value by default librosa n_ftt, frame_length\",2048/sr*1000,\"ms\")\n",
    "print(\"value by default librosa hop_length\",512/sr *1000,\"ms\")\n",
    "hop_length_ms=int(512/sr*1000)\n",
    "print(hop_length_ms)\n",
    "stopping_idx=int((stopping_time/hop_length_ms)*1000)\n",
    "print(stopping_idx)"
   ]
  },
  {
   "cell_type": "markdown",
   "metadata": {},
   "source": [
    "### GENERATE DATASET OF OUR VIDEO"
   ]
  },
  {
   "cell_type": "code",
   "execution_count": 46,
   "metadata": {},
   "outputs": [
    {
     "name": "stdout",
     "output_type": "stream",
     "text": [
      "mfcc (13, 235623)\n",
      "mfcc (13, 11754)\n",
      "df_mfcc_feat (11754, 13)\n",
      "df_delta_mfcc_feat (11754, 13)\n",
      "df_global (11754, 26)\n",
      "Wall time: 55.5 s\n"
     ]
    }
   ],
   "source": [
    "%%time\n",
    "frame_length=882\n",
    "hop_length=220\n",
    "hop_length_ms=10\n",
    "# hop_length_ms=int(hop_length/sr*1000) #si j'applique cette formule je n'obtiens pas 11754\n",
    "stopping_idx=int((stopping_time/hop_length_ms)*1000)\n",
    "df_global_1=generate_mfcc_features_df(y,sr,frame_length,hop_length,stopping_idx)"
   ]
  },
  {
   "cell_type": "code",
   "execution_count": 28,
   "metadata": {},
   "outputs": [
    {
     "name": "stdout",
     "output_type": "stream",
     "text": [
      "mfcc (13, 101244)\n",
      "mfcc (13, 5110)\n",
      "df_mfcc_feat (5110, 13)\n",
      "df_delta_mfcc_feat (5110, 13)\n",
      "df_global (5110, 26)\n",
      "Wall time: 9.85 s\n"
     ]
    }
   ],
   "source": [
    "%%time\n",
    "frame_length=2048 #default nummer\n",
    "hop_length=512\n",
    "hop_length_ms=int(hop_length/sr*1000)\n",
    "stopping_idx=int((stopping_time/hop_length_ms)*1000)\n",
    "df_global_1=generate_mfcc_features_df(y,sr,frame_length,hop_length,stopping_idx)"
   ]
  },
  {
   "cell_type": "markdown",
   "metadata": {},
   "source": [
    "### BUILDING DATASET FOR CLASSIFICATION BASED ON AUDIOS IN THE WEB"
   ]
  },
  {
   "cell_type": "code",
   "execution_count": 29,
   "metadata": {},
   "outputs": [],
   "source": [
    "def generate_features(path_file,frame_length,hop_length):\n",
    "    y, sr = librosa.load(path_file)\n",
    "#     print(\"y shape=\",y.shape,\"sample_rate=\",sr)\n",
    "    mfcc_music=librosa.feature.mfcc(y=y, sr=sr,win_length=frame_length,hop_length=hop_length, n_mfcc=13)\n",
    "    d_mfcc_music = delta(mfcc_music, 2)\n",
    "    \n",
    "    columns=['mfcc'+str(i) for i in range(1,14)]\n",
    "    df_mfcc_music=pd.DataFrame(data=mfcc_music.T,columns=columns)\n",
    "\n",
    "    columns=['d_mfcc'+str(i) for i in range(1,14)]\n",
    "    df_delta_mfcc_music=pd.DataFrame(data=d_mfcc_music.T,columns=columns)\n",
    "\n",
    "    df_global=pd.concat([df_mfcc_music,df_delta_mfcc_music],axis=1,sort=True)\n",
    "#     print(\"final_df shape=\",df_global.shape)\n",
    "    return df_global"
   ]
  },
  {
   "cell_type": "code",
   "execution_count": 30,
   "metadata": {},
   "outputs": [],
   "source": [
    "def generate_final_dataset_training(frame_length,hop_length):\n",
    "    #SPEECH FILES\n",
    "    speech_files=['french14.mp3','french15.mp3','french45.mp3','french59.mp3','french60.mp3','french62.mp3']\n",
    "    path=\"../sample_audio/speech/\"\n",
    "    df_speech=pd.DataFrame()\n",
    "    count_len=0\n",
    "    print(\"************ SPEECH ************\")\n",
    "    for file in speech_files:\n",
    "        path_file=path+file\n",
    "        df=generate_features(path_file,frame_length,hop_length)\n",
    "        count_len+=df.shape[0]\n",
    "        df_speech=pd.concat([df_speech,df],ignore_index=True)\n",
    "    print(\"SPEECH shape\", df_speech.shape, \" vs count_len total\", count_len)\n",
    "    \n",
    "    # MUSIC FILES\n",
    "    music_files=['audio_music_MP3_1MG.mp3','audio_music_OOG_1MG.ogg','audio_music_WAV_1MG.wav']\n",
    "\n",
    "    path=\"../sample_audio/music/\"\n",
    "    df_music=pd.DataFrame()\n",
    "    count_len=0\n",
    "    print(\"************ MUSIC ************\")\n",
    "    for file in music_files:\n",
    "        path_file=path+file\n",
    "        df=generate_features(path_file,frame_length,hop_length)\n",
    "        count_len+=df.shape[0]\n",
    "        df_music=pd.concat([df_music,df],ignore_index=True)\n",
    "    print(\"MUSIC shape\", df_music.shape, \" vs count_len total\", count_len)\n",
    "    \n",
    "    # SILENCE FILE\n",
    "    print(\"************ SILENCE ************\")\n",
    "    path_file=\"../sample_audio/audio_silence.wav\"\n",
    "    df_silence=generate_features(path_file,frame_length,hop_length)\n",
    "    \n",
    "    df_silence=pd.concat([df_silence,df_silence,df_silence,df_silence],ignore_index=True)\n",
    "    print(\"SILENCE shape\", df_silence.shape)\n",
    "    \n",
    "    # CONCAT ALL DATA\n",
    "    print(\"************ BUILD DATASET ************\")\n",
    "    df_speech['label']=1\n",
    "    df_music['label']=2\n",
    "    df_silence['label']=0\n",
    "    df_all=pd.concat([df_speech,df_music,df_silence],ignore_index=True)\n",
    "    print(\"DATASET ALL label count\",df_all.groupby('label')['label'].count())\n",
    "    \n",
    "    return df_all"
   ]
  },
  {
   "cell_type": "markdown",
   "metadata": {},
   "source": [
    "### MODEL"
   ]
  },
  {
   "cell_type": "code",
   "execution_count": 31,
   "metadata": {},
   "outputs": [],
   "source": [
    "from sklearn.model_selection import train_test_split\n",
    "from sklearn.ensemble import GradientBoostingClassifier\n",
    "from numpy.core.umath_tests import inner1d\n",
    "from sklearn.metrics import accuracy_score, confusion_matrix"
   ]
  },
  {
   "cell_type": "code",
   "execution_count": 32,
   "metadata": {},
   "outputs": [],
   "source": [
    "def run_model_test(frame_length,hop_length,window_avg):\n",
    "    \n",
    "    df_all=generate_final_dataset_training(frame_length,hop_length)\n",
    "    \n",
    "    print(\"************ SPLIT TRAIN AND TEST ************\")\n",
    "    X=df_all.iloc[:,:-1]\n",
    "    y=df_all.iloc[:,-1]\n",
    "    X_train, X_test, y_train, y_test = train_test_split(X, y, test_size=0.33, random_state=42)\n",
    "    print(\"DATASET TEST label count\",pd.DataFrame(data=y_test).groupby(\"label\")['label'].count())\n",
    "    \n",
    "    print(\"************ FIT MODEL ON TRAIN AND PREDICT - ACCURACY SCORE ************\")\n",
    "    clf = GradientBoostingClassifier(random_state=0)\n",
    "    clf.fit(X_train, y_train)\n",
    "    y_pred=clf.predict(X_test)\n",
    "    print(\"clf.score\",clf.score(X_test, y_test))\n",
    "\n",
    "    print(\"accuracy_score\",accuracy_score(y_test,y_pred))\n",
    "    print(\"confusion_matrix\", confusion_matrix(y_test,y_pred))\n",
    "    \n",
    "    print(\"************ APLLY MODEL TO OUR AUDIO ************\")\n",
    "    df_res=test_audio(clf,frame_length,hop_length,window_avg)\n",
    "    return df_res\n",
    "\n",
    "def test_audio(clf,frame_length,hop_length,window_avg):\n",
    "    file_name=\"mfcc_generique_reportage\"+str(frame_length)+\"_\"+str(hop_length)+\".csv\"\n",
    "    df=pd.read_csv(file_name)\n",
    "    df=df.drop(columns=['Unnamed: 0'])\n",
    "    print(\"SHAPE OUR AUDIO \", df.shape)\n",
    "\n",
    "    y_pred=clf.predict(df)\n",
    "    df_y=pd.DataFrame(data=y_pred,columns=['label'])\n",
    "    print(\"Pred label count\",df_y.groupby('label')['label'].count())\n",
    "\n",
    "    df_res=pd.concat([df,df_y],axis=1,sort=True)\n",
    "    df_res['avg_res']=df_res['label'].rolling(window=window_avg).mean() #par second\n",
    "    df_res['proba_2']=clf.predict_proba(df)[:,2]\n",
    "    df_res['avg_proba_2']=df_res['proba_2'].rolling(window=window_avg).mean()\n",
    "    print(\"Final resulat\",df_res.shape)\n",
    "    \n",
    "    plt.title(\"MVA 1s proba class 2\")\n",
    "    df_res['avg_proba_2'].plot()\n",
    "    plt.show()\n",
    "    df_res.loc[0:1500,'avg_proba_2'].plot()\n",
    "    plt.show()\n",
    "    return df_res\n",
    "\n",
    "def get_right_index_time(df_res,col,wind_diff):\n",
    "    max_jump=np.max(df_res[col].diff(wind_diff))\n",
    "    min_jump=np.min(df_res[col].diff(wind_diff))\n",
    "    arr_max_min=np.abs([max_jump,min_jump])\n",
    "    max_v=np.max(arr_max_min)\n",
    "    max_idx=np.where(arr_max_min==max_v)[0][0]\n",
    "    if max_idx==0:\n",
    "        idx_reportage=np.where(df_res[col].diff(wind_diff)==max_jump)\n",
    "    if max_idx==1:\n",
    "        idx_reportage=np.where(df_res[col].diff(wind_diff)==min_jump)\n",
    "    plt.plot(df_res[col].diff(wind_diff)[:2000],label=wind_diff)\n",
    "    plt.legend()\n",
    "    return idx_reportage[0][0]"
   ]
  },
  {
   "cell_type": "markdown",
   "metadata": {},
   "source": [
    "### RUN MODEL"
   ]
  },
  {
   "cell_type": "code",
   "execution_count": 49,
   "metadata": {},
   "outputs": [
    {
     "name": "stdout",
     "output_type": "stream",
     "text": [
      "SPEECH\n",
      "SPEECH shape (15465, 26)  vs count_len total 15465\n",
      "MUSIC\n",
      "MUSIC shape (13532, 26)  vs count_len total 13532\n",
      "SILENCE shape (12240, 26)\n",
      "DATASET ALL label count label\n",
      "0    12240\n",
      "1    15465\n",
      "2    13532\n",
      "Name: label, dtype: int64\n",
      "DATASET TEST label count label\n",
      "0    4020\n",
      "1    5178\n",
      "2    4411\n",
      "Name: label, dtype: int64\n",
      "clf.score 0.9888309207142332\n",
      "accuracy_score 0.9888309207142332\n",
      "confusion_matrix [[4020    0    0]\n",
      " [   0 5124   54]\n",
      " [   0   98 4313]]\n",
      "Pred label count label\n",
      "1    10225\n",
      "2     1529\n",
      "Name: label, dtype: int64\n",
      "Final resulat (11754, 30)\n"
     ]
    },
    {
     "data": {
      "image/png": "[encoded data removed]",
      "text/plain": [
       "<Figure size 432x288 with 1 Axes>"
      ]
     },
     "metadata": {},
     "output_type": "display_data"
    },
    {
     "data": {
      "image/png": "[encoded data removed]",
      "text/plain": [
       "<Figure size 432x288 with 1 Axes>"
      ]
     },
     "metadata": {},
     "output_type": "display_data"
    }
   ],
   "source": [
    "frame_length=882\n",
    "hop_length=220\n",
    "df_res_1=run_model_test(frame_length,hop_length,100)"
   ]
  },
  {
   "cell_type": "code",
   "execution_count": 35,
   "metadata": {},
   "outputs": [
    {
     "data": {
      "text/plain": [
       "[<matplotlib.lines.Line2D at 0x25517ec9be0>]"
      ]
     },
     "execution_count": 35,
     "metadata": {},
     "output_type": "execute_result"
    },
    {
     "data": {
      "image/png": "[encoded data removed]",
      "text/plain": [
       "<Figure size 432x288 with 1 Axes>"
      ]
     },
     "metadata": {},
     "output_type": "display_data"
    }
   ],
   "source": [
    "plt.plot(df_res_1['avg_proba_2'].diff(100))"
   ]
  },
  {
   "cell_type": "code",
   "execution_count": null,
   "metadata": {},
   "outputs": [],
   "source": [
    "# The \"reportage\" starts at approximatively 11s ==> the right index:\n",
    "# 10*1000\n",
    "# 23.219954648526077 ms\n",
    "print(\"first case hop_length=10ms\",11.36/10*1000)\n",
    "print(\"first case hop_length=23.219954648526077ms\",int(11.36/23.2199*1000))"
   ]
  },
  {
   "cell_type": "code",
   "execution_count": 36,
   "metadata": {
    "scrolled": false
   },
   "outputs": [
    {
     "name": "stdout",
     "output_type": "stream",
     "text": [
      "SPEECH\n",
      "SPEECH shape (6648, 26)  vs count_len total 6648\n",
      "MUSIC\n",
      "MUSIC shape (5816, 26)  vs count_len total 5816\n",
      "SILENCE shape (5260, 26)\n",
      "DATASET ALL label count label\n",
      "0    5260\n",
      "1    6648\n",
      "2    5816\n",
      "Name: label, dtype: int64\n",
      "DATASET TEST label count label\n",
      "0    1717\n",
      "1    2179\n",
      "2    1953\n",
      "Name: label, dtype: int64\n",
      "clf.score 0.9895708668148402\n",
      "accuracy_score 0.9895708668148402\n",
      "confusion_matrix [[1717    0    0]\n",
      " [   0 2159   20]\n",
      " [   0   41 1912]]\n",
      "Pred label count label\n",
      "1    4555\n",
      "2     555\n",
      "Name: label, dtype: int64\n",
      "Final resulat (5110, 30)\n"
     ]
    },
    {
     "data": {
      "image/png": "[encoded data removed]",
      "text/plain": [
       "<Figure size 432x288 with 1 Axes>"
      ]
     },
     "metadata": {},
     "output_type": "display_data"
    },
    {
     "data": {
      "image/png": "[encoded data removed]",
      "text/plain": [
       "<Figure size 432x288 with 1 Axes>"
      ]
     },
     "metadata": {},
     "output_type": "display_data"
    }
   ],
   "source": [
    "frame_length=2048 #default nummer\n",
    "hop_length=512\n",
    "df_res_2=run_model_test(frame_length,hop_length,50)"
   ]
  },
  {
   "cell_type": "code",
   "execution_count": 38,
   "metadata": {},
   "outputs": [
    {
     "name": "stdout",
     "output_type": "stream",
     "text": [
      "1164\n",
      "507\n"
     ]
    },
    {
     "data": {
      "image/png": "[encoded data removed]",
      "text/plain": [
       "<Figure size 432x288 with 1 Axes>"
      ]
     },
     "metadata": {},
     "output_type": "display_data"
    }
   ],
   "source": [
    "print(get_right_index_time(df_res_1,\"avg_proba_2\",100)) #1 sec pour tous les 100 index =10ms * 100/1000\n",
    "print(get_right_index_time(df_res_2,\"avg_proba_2\",50)) #1.161 sec pour tous les 50 index = 23.22ms *50/1000"
   ]
  },
  {
   "cell_type": "code",
   "execution_count": 39,
   "metadata": {},
   "outputs": [
    {
     "data": {
      "text/plain": [
       "<matplotlib.axes._subplots.AxesSubplot at 0x255174ee3c8>"
      ]
     },
     "execution_count": 39,
     "metadata": {},
     "output_type": "execute_result"
    },
    {
     "data": {
      "image/png": "[encoded data removed]",
      "text/plain": [
       "<Figure size 432x288 with 1 Axes>"
      ]
     },
     "metadata": {},
     "output_type": "display_data"
    }
   ],
   "source": [
    "df_res_1[['avg_res','avg_proba_2']][:1500].plot()"
   ]
  }
 ],
 "metadata": {
  "kernelspec": {
   "display_name": "Python 3",
   "language": "python",
   "name": "python3"
  },
  "language_info": {
   "codemirror_mode": {
    "name": "ipython",
    "version": 3
   },
   "file_extension": ".py",
   "mimetype": "text/x-python",
   "name": "python",
   "nbconvert_exporter": "python",
   "pygments_lexer": "ipython3",
   "version": "3.6.5"
  }
 },
 "nbformat": 4,
 "nbformat_minor": 2
}
